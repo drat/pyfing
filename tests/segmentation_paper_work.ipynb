{
 "cells": [
  {
   "cell_type": "code",
   "execution_count": 1,
   "metadata": {},
   "outputs": [],
   "source": [
    "import tensorflow as tf\n",
    "import cv2 as cv\n",
    "import numpy as np\n",
    "from utils import show\n",
    "from ipywidgets import interact\n",
    "from IPython.display import clear_output\n",
    "import json\n",
    "\n",
    "import os, sys\n",
    "sys.path.append(os.path.dirname(os.path.realpath(\".\"))) # add parent path to import the pyfing package of this project\n",
    "\n",
    "import pyfing as pf\n",
    "from pyfing.segmentation import compute_segmentation_error"
   ]
  },
  {
   "cell_type": "code",
   "execution_count": 2,
   "metadata": {},
   "outputs": [],
   "source": [
    "PATH_FVC = '../../datasets/'\n",
    "PATH_GT = '../../datasets/segmentationbenchmark/groundtruth/'\n",
    "PATH_RES = '../../results/'\n",
    "PATH_PARAMS = '../parameters/segmentation/'"
   ]
  },
  {
   "cell_type": "code",
   "execution_count": 3,
   "metadata": {},
   "outputs": [],
   "source": [
    "alg = pf.GradMag2SegmentationAlgorithm()\n",
    "#alg = pf.DnnSegmentationAlgorithm(models_folder=\"../models/\")\n",
    "results = None\n",
    "year = 2000\n",
    "db = 1\n",
    "subset = 'a'"
   ]
  },
  {
   "cell_type": "code",
   "execution_count": 4,
   "metadata": {},
   "outputs": [
    {
     "data": {
      "application/vnd.jupyter.widget-view+json": {
       "model_id": "973b89b9fc234ca3a80ef13bfdd6c31f",
       "version_major": 2,
       "version_minor": 0
      },
      "text/plain": [
       "interactive(children=(Dropdown(description='y', options=(2000, 2002, 2004), value=2000), Dropdown(description=…"
      ]
     },
     "metadata": {},
     "output_type": "display_data"
    }
   ],
   "source": [
    "@interact(y=[2000,2002,2004], n=[1,2,3,4])\n",
    "def choose_db(y=year, n=db):\n",
    "    global results, year, db\n",
    "    year, db = y, n\n",
    "    with open(f'{PATH_RES}fvc{year}_db{db}_{subset}_{type(alg).__name__}_res.txt', 'r') as filehandle:\n",
    "        results = json.load(filehandle)\n",
    "\n",
    "    #results = sorted(results, key=lambda r: r[2][0])\n",
    "    alg.parameters =pf.GradMag2SegmentationParameters.load(f'{PATH_PARAMS}fvc{year}_db{db}_b_grad_mag2_params.json')"
   ]
  },
  {
   "cell_type": "code",
   "execution_count": 6,
   "metadata": {},
   "outputs": [
    {
     "data": {
      "application/vnd.jupyter.widget-view+json": {
       "model_id": "d2a7f36af33843cba213da85b25ef55c",
       "version_major": 2,
       "version_minor": 0
      },
      "text/plain": [
       "interactive(children=(IntSlider(value=0, description='i', max=799), Output()), _dom_classes=('widget-interact'…"
      ]
     },
     "metadata": {},
     "output_type": "display_data"
    }
   ],
   "source": [
    "@interact(i=(0, len(results)-1))\n",
    "def show_result(i=0):\n",
    "    i, j, (err, dc) = results[i]\n",
    "    img = cv.imread(f'{PATH_FVC}fvc{year}/db{db}_{subset}/{i}_{j}.png', cv.IMREAD_GRAYSCALE)\n",
    "    gt = cv.bitwise_not(cv.imread(f'{PATH_GT}fvc{year}_db{db}_im_{i}_{j}seg.png', cv.IMREAD_GRAYSCALE))\n",
    "    ir = []\n",
    "    mask = alg.run(img, ir)\n",
    "    contours, _ = cv.findContours(mask, cv.RETR_LIST, cv.CHAIN_APPROX_SIMPLE)\n",
    "    gt_contours, _ = cv.findContours(gt, cv.RETR_LIST, cv.CHAIN_APPROX_SIMPLE)\n",
    "    \n",
    "    img_bgr = cv.cvtColor(img, cv.COLOR_GRAY2BGR)\n",
    "    img_res = cv.drawContours(img_bgr.copy(), contours, -1, (255,0,0), 5)\n",
    "    img_gt = cv.drawContours(img_bgr.copy(), gt_contours, -1, (0,192,0), 3)\n",
    "    img_err = img_bgr.copy()\n",
    "    false_positives = cv.bitwise_and(mask, cv.bitwise_not(gt))\n",
    "    false_negatives = cv.bitwise_and(cv.bitwise_not(mask), gt)\n",
    "    img_err[false_positives == 255,1:3] //= 2\n",
    "    img_err[false_negatives == 255,0:3:2] //= 2\n",
    "    cv.drawContours(img_err, gt_contours, -1, (0,192,0), 3)\n",
    "    cv.drawContours(img_err, contours, -1, (255,0,0), 5)\n",
    "    \n",
    "    show(img, mask, (img_res, f'{i}_{j}'), (img_gt, 'Ground truth'), (img_err, f'Err = {err:.2f}% DC = {dc:.3f}'))\n",
    "    show(*ir)"
   ]
  },
  {
   "cell_type": "code",
   "execution_count": null,
   "metadata": {},
   "outputs": [],
   "source": []
  },
  {
   "cell_type": "code",
   "execution_count": 8,
   "metadata": {},
   "outputs": [
    {
     "data": {
      "text/plain": [
       "'GradMagSegmentationAlgorithm'"
      ]
     },
     "execution_count": 8,
     "metadata": {},
     "output_type": "execute_result"
    }
   ],
   "source": [
    "pf.GradMagSegmentationAlgorithm.__name__"
   ]
  },
  {
   "cell_type": "code",
   "execution_count": 7,
   "metadata": {},
   "outputs": [
    {
     "name": "stdout",
     "output_type": "stream",
     "text": [
      "2000\t1\t3.00\t0.18\t95\t2\t15\t500\n",
      "2000\t2\t4.33\t0.16\t95\t6\t6\t500\n",
      "2000\t3\t4.33\t0.22\t95\t6\t12\t500\n",
      "2000\t4\t6.33\t0.07\t95\t1\t2\t500\n",
      "2002\t1\t3.67\t0.03\t95\t4\t9\t500\n",
      "2002\t2\t3.67\t0.13\t95\t8\t18\t569\n",
      "2002\t3\t5.00\t0.25\t95\t4\t9\t500\n",
      "2002\t4\t8.33\t0.08\t95\t2\t15\t500\n",
      "2004\t1\t2.33\t0.02\t95\t8\t18\t500\n",
      "2004\t2\t7.67\t0.18\t95\t2\t18\t500\n",
      "2004\t3\t5.00\t0.12\t95\t4\t15\t512\n",
      "2004\t4\t7.00\t0.13\t95\t2\t6\t500\n"
     ]
    }
   ],
   "source": [
    "for y, db  in [(y, db) for y in (2000, 2002, 2004) for db in (1,2,3,4)]:\n",
    "    p = pf.GradMag2SegmentationParameters.load(f'{PATH_PARAMS}fvc{y}_db{db}_b_grad_mag2_params.json')\n",
    "    print(f\"{y}\\t{db}\\t{p.sigma:.2f}\\t{p.threshold:.2f}\\t{p.percentile}\\t{p.closing_count}\\t{p.opening_count}\\t{p.image_dpi}\")"
   ]
  }
 ],
 "metadata": {
  "kernelspec": {
   "display_name": "Python 3 (ipykernel)",
   "language": "python",
   "name": "python3"
  },
  "language_info": {
   "codemirror_mode": {
    "name": "ipython",
    "version": 3
   },
   "file_extension": ".py",
   "mimetype": "text/x-python",
   "name": "python",
   "nbconvert_exporter": "python",
   "pygments_lexer": "ipython3",
   "version": "3.9.17"
  }
 },
 "nbformat": 4,
 "nbformat_minor": 4
}
