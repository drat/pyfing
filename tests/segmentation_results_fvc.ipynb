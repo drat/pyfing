{
 "cells": [
  {
   "cell_type": "markdown",
   "metadata": {},
   "source": [
    "# Fingerprint segmentation module"
   ]
  },
  {
   "cell_type": "code",
   "execution_count": 1,
   "metadata": {},
   "outputs": [
    {
     "name": "stderr",
     "output_type": "stream",
     "text": [
      "2023-10-09 11:39:20.907331: E tensorflow/compiler/xla/stream_executor/cuda/cuda_dnn.cc:9342] Unable to register cuDNN factory: Attempting to register factory for plugin cuDNN when one has already been registered\n",
      "2023-10-09 11:39:20.907415: E tensorflow/compiler/xla/stream_executor/cuda/cuda_fft.cc:609] Unable to register cuFFT factory: Attempting to register factory for plugin cuFFT when one has already been registered\n",
      "2023-10-09 11:39:20.907451: E tensorflow/compiler/xla/stream_executor/cuda/cuda_blas.cc:1518] Unable to register cuBLAS factory: Attempting to register factory for plugin cuBLAS when one has already been registered\n",
      "2023-10-09 11:39:20.917910: I tensorflow/core/platform/cpu_feature_guard.cc:182] This TensorFlow binary is optimized to use available CPU instructions in performance-critical operations.\n",
      "To enable the following instructions: AVX2 AVX512F FMA, in other operations, rebuild TensorFlow with the appropriate compiler flags.\n"
     ]
    }
   ],
   "source": [
    "import numpy as np\n",
    "import cv2 as cv\n",
    "import tensorflow as tf\n",
    "from utils import show\n",
    "from ipywidgets import interact\n",
    "import time\n",
    "from IPython.display import clear_output\n",
    "import json\n",
    "\n",
    "# TODO ???\n",
    "import os, sys\n",
    "current = os.path.dirname(os.path.realpath(\".\"))\n",
    "sys.path.append(current)\n",
    "\n",
    "import pyfing as pf"
   ]
  },
  {
   "cell_type": "code",
   "execution_count": 2,
   "metadata": {},
   "outputs": [],
   "source": [
    "# Paths\n",
    "PATH_FVC = '../../datasets/'\n",
    "PATH_PARAMS = '../parameters/segmentation/'\n",
    "PATH_GT = '../../datasets/segmentationbenchmark/groundtruth/'\n",
    "PATH_TESTS = '../../results/'"
   ]
  },
  {
   "cell_type": "markdown",
   "metadata": {},
   "source": [
    "# Error analysis\n",
    "\n",
    "For each database, fingerprints are sorted according to the error rate."
   ]
  },
  {
   "cell_type": "code",
   "execution_count": 27,
   "metadata": {},
   "outputs": [
    {
     "data": {
      "application/vnd.jupyter.widget-view+json": {
       "model_id": "898b729dbf0f4affa25440a0c5bc2c37",
       "version_major": 2,
       "version_minor": 0
      },
      "text/plain": [
       "interactive(children=(Dropdown(description='year', options=(2000, 2002, 2004), value=2000), Dropdown(descripti…"
      ]
     },
     "metadata": {},
     "output_type": "display_data"
    }
   ],
   "source": [
    "@interact(year=[2000,2002,2004], db=[1,2,3,4])\n",
    "def choose_db(year, db):\n",
    "    subset = 'a'\n",
    "    with open(f'{PATH_TESTS}fvc{year}_db{db}_{subset}_res.txt', 'r') as filehandle:\n",
    "        results = json.load(filehandle)\n",
    "\n",
    "    results = sorted(results, key=lambda r: r[2][0])\n",
    "    seg.parameters = segmentation.GradMagSegmentationParameters.load(f'{PATH_PARAMS}fvc{year}_db{db}_b_best_params.txt')\n",
    "    \n",
    "    @interact(i=(0, len(results)-1))\n",
    "    def show_result(i=0):\n",
    "        i, j, (err, dc) = results[i]\n",
    "        img = cv.imread(f'{PATH_FVC}fvc{year}/db{db}_{subset}/{i}_{j}.png', cv.IMREAD_GRAYSCALE)\n",
    "        gt = cv.bitwise_not(cv.imread(f'{PATH_GT}fvc{year}_db{db}_im_{i}_{j}seg.png', cv.IMREAD_GRAYSCALE))\n",
    "        mask = seg.run(img)\n",
    "        v_mask = cv.merge((gt, mask, cv.bitwise_not(img)))\n",
    "        show((img,f'{i}_{j}'), (mask, 'Result'), (gt, 'Ground truth'), (v_mask, f'Err = {err:.2f}% DC = {dc:.3f}'))"
   ]
  },
  {
   "cell_type": "markdown",
   "metadata": {},
   "source": [
    "## 3. Parameter optimization"
   ]
  },
  {
   "cell_type": "markdown",
   "metadata": {},
   "source": [
    "Optimizazion of the parameters on each FVC database set \"B\":"
   ]
  },
  {
   "cell_type": "code",
   "execution_count": null,
   "metadata": {},
   "outputs": [],
   "source": [
    "def optimize_parameters_in_ranges(year, db, subset, images, gt, best_parameters, ranges):    \n",
    "    min_err = 100 if best_parameters is None else average_err_on_db(images, gt, best_parameters)\n",
    "    for w in ranges[0]:\n",
    "        for p in ranges[1]:  \n",
    "            for t in ranges[2]:\n",
    "                for cc in ranges[3]:\n",
    "                    for oc in ranges[4]:\n",
    "                        parameters = segmentation.Parameters(w, p, t, cc, oc)\n",
    "                        e = average_err_on_db(images, gt, parameters)                \n",
    "                        if e < min_err:\n",
    "                            min_err = e\n",
    "                            best_parameters = parameters\n",
    "                            # saves best parameters to file\n",
    "                            best_parameters.save(f'../test/fvc{year}_db{db}_{subset}_params.txt')\n",
    "                        print(f'{year}-{db}-{subset}: {len(images)} fingerprints')\n",
    "                        print(f'{parameters}\\n-> {e:.2f}%\\n(best: {best_parameters}\\n-> {min_err:.2f}%)')\n",
    "                        clear_output(True)\n",
    "    return best_parameters\n",
    "\n",
    "def optimize_parameters(year, db, subset):\n",
    "    images = load_db(year, db, subset)\n",
    "    gt = load_gt(year, db, subset)\n",
    "    p = None\n",
    "    try:\n",
    "        p = segmentation.load_parameters(f'{PATH_TESTS}fvc{year}_db{db}_b_params.txt')\n",
    "        print(f'Loaded best parameters: {p}')\n",
    "    except:\n",
    "        print('Best parameters not found')\n",
    "    p = optimize_parameters_in_ranges(year, db, subset, images, gt, p,\n",
    "                                      [\n",
    "                                          range(3,19,2),\n",
    "                                          [85,90,95],\n",
    "                                          [0.15,0.20,0.25,0.30],\n",
    "                                          [7],\n",
    "                                          [13],\n",
    "                                      ])\n",
    "    p = optimize_parameters_in_ranges(year, db, subset, images, gt, p,\n",
    "                                      [\n",
    "                                          [p.window_size],\n",
    "                                          range(75,100,5),\n",
    "                                          np.arange(0.05,0.4,0.01),\n",
    "                                          [7],\n",
    "                                          [13],\n",
    "                                      ])\n",
    "    p = optimize_parameters_in_ranges(year, db, subset, images, gt, p,\n",
    "                                      [\n",
    "                                          [p.window_size],\n",
    "                                          [p.percentile],\n",
    "                                          [p.threshold],\n",
    "                                          range(0,15,3),\n",
    "                                          range(0,24,3),\n",
    "                                      ])"
   ]
  },
  {
   "cell_type": "code",
   "execution_count": null,
   "metadata": {},
   "outputs": [],
   "source": [
    "for y, db, subset in TRAIN_DATASETS:\n",
    "    optimize_parameters(y, db, subset)"
   ]
  },
  {
   "cell_type": "code",
   "execution_count": null,
   "metadata": {},
   "outputs": [],
   "source": []
  }
 ],
 "metadata": {
  "kernelspec": {
   "display_name": "Python 3 (ipykernel)",
   "language": "python",
   "name": "python3"
  },
  "language_info": {
   "codemirror_mode": {
    "name": "ipython",
    "version": 3
   },
   "file_extension": ".py",
   "mimetype": "text/x-python",
   "name": "python",
   "nbconvert_exporter": "python",
   "pygments_lexer": "ipython3",
   "version": "3.10.12"
  }
 },
 "nbformat": 4,
 "nbformat_minor": 4
}
