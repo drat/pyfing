{
 "cells": [
  {
   "cell_type": "markdown",
   "metadata": {},
   "source": [
    "# Fingerprint segmentation module"
   ]
  },
  {
   "cell_type": "code",
   "execution_count": 1,
   "metadata": {},
   "outputs": [
    {
     "name": "stderr",
     "output_type": "stream",
     "text": [
      "2023-10-09 14:16:32.379102: E tensorflow/compiler/xla/stream_executor/cuda/cuda_dnn.cc:9342] Unable to register cuDNN factory: Attempting to register factory for plugin cuDNN when one has already been registered\n",
      "2023-10-09 14:16:32.379176: E tensorflow/compiler/xla/stream_executor/cuda/cuda_fft.cc:609] Unable to register cuFFT factory: Attempting to register factory for plugin cuFFT when one has already been registered\n",
      "2023-10-09 14:16:32.379223: E tensorflow/compiler/xla/stream_executor/cuda/cuda_blas.cc:1518] Unable to register cuBLAS factory: Attempting to register factory for plugin cuBLAS when one has already been registered\n",
      "2023-10-09 14:16:32.392192: I tensorflow/core/platform/cpu_feature_guard.cc:182] This TensorFlow binary is optimized to use available CPU instructions in performance-critical operations.\n",
      "To enable the following instructions: AVX2 AVX512F FMA, in other operations, rebuild TensorFlow with the appropriate compiler flags.\n"
     ]
    }
   ],
   "source": [
    "import numpy as np\n",
    "import cv2 as cv\n",
    "import tensorflow as tf\n",
    "from utils import show\n",
    "from ipywidgets import interact\n",
    "import time\n",
    "from IPython.display import clear_output\n",
    "import json\n",
    "\n",
    "import os, sys\n",
    "sys.path.append(os.path.dirname(os.path.realpath(\".\"))) # add parent path to import the pyfing package of this project\n",
    "\n",
    "import pyfing as pf"
   ]
  },
  {
   "cell_type": "code",
   "execution_count": 2,
   "metadata": {},
   "outputs": [],
   "source": [
    "PATH_FVC = '../../datasets/'\n",
    "PATH_GT = '../../datasets/segmentationbenchmark/groundtruth/'\n",
    "PATH_RES = '../../results/'"
   ]
  },
  {
   "cell_type": "markdown",
   "metadata": {},
   "source": [
    "# Error analysis\n",
    "\n",
    "For each database, fingerprints are sorted according to the error rate."
   ]
  },
  {
   "cell_type": "code",
   "execution_count": null,
   "metadata": {},
   "outputs": [],
   "source": []
  },
  {
   "cell_type": "code",
   "execution_count": 27,
   "metadata": {},
   "outputs": [
    {
     "data": {
      "application/vnd.jupyter.widget-view+json": {
       "model_id": "898b729dbf0f4affa25440a0c5bc2c37",
       "version_major": 2,
       "version_minor": 0
      },
      "text/plain": [
       "interactive(children=(Dropdown(description='year', options=(2000, 2002, 2004), value=2000), Dropdown(descripti…"
      ]
     },
     "metadata": {},
     "output_type": "display_data"
    }
   ],
   "source": [
    "@interact(year=[2000,2002,2004], db=[1,2,3,4])\n",
    "def choose_db(year, db):\n",
    "    subset = 'a'\n",
    "    with open(f'{PATH_TESTS}fvc{year}_db{db}_{subset}_res.txt', 'r') as filehandle:\n",
    "        results = json.load(filehandle)\n",
    "\n",
    "    results = sorted(results, key=lambda r: r[2][0])\n",
    "    seg.parameters = segmentation.GradMagSegmentationParameters.load(f'{PATH_PARAMS}fvc{year}_db{db}_b_best_params.txt')\n",
    "    \n",
    "    @interact(i=(0, len(results)-1))\n",
    "    def show_result(i=0):\n",
    "        i, j, (err, dc) = results[i]\n",
    "        img = cv.imread(f'{PATH_FVC}fvc{year}/db{db}_{subset}/{i}_{j}.png', cv.IMREAD_GRAYSCALE)\n",
    "        gt = cv.bitwise_not(cv.imread(f'{PATH_GT}fvc{year}_db{db}_im_{i}_{j}seg.png', cv.IMREAD_GRAYSCALE))\n",
    "        mask = seg.run(img)\n",
    "        v_mask = cv.merge((gt, mask, cv.bitwise_not(img)))\n",
    "        show((img,f'{i}_{j}'), (mask, 'Result'), (gt, 'Ground truth'), (v_mask, f'Err = {err:.2f}% DC = {dc:.3f}'))"
   ]
  },
  {
   "cell_type": "code",
   "execution_count": null,
   "metadata": {},
   "outputs": [],
   "source": []
  }
 ],
 "metadata": {
  "kernelspec": {
   "display_name": "Python 3 (ipykernel)",
   "language": "python",
   "name": "python3"
  },
  "language_info": {
   "codemirror_mode": {
    "name": "ipython",
    "version": 3
   },
   "file_extension": ".py",
   "mimetype": "text/x-python",
   "name": "python",
   "nbconvert_exporter": "python",
   "pygments_lexer": "ipython3",
   "version": "3.10.12"
  }
 },
 "nbformat": 4,
 "nbformat_minor": 4
}
